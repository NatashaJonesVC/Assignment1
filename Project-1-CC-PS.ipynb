{
 "cells": [
  {
   "cell_type": "markdown",
   "metadata": {},
   "source": [
    "# Project 1: Data Science & Python Fundamentals\n",
    "\n",
    "_Authors: Preriit Souda _\n",
    "\n",
    "---"
   ]
  },
  {
   "cell_type": "markdown",
   "metadata": {},
   "source": [
    "**Welcome to the first assignment of DataScience Fundamentals.**\n",
    "\n",
    "All of the questions below can be answered using the content we studied till date. You already know it. Relax and get started. You will breeze through this assignment. \n",
    "\n",
    "Use of pseudocode can be helpful in your process. \n",
    "\n",
    "If you need any help, feel free to ping the instructional team. \n",
    "\n",
    "Please submit this assignment in a week's time (17 May 2022, 23:59 BST). If you need additional time, please Instructional Associates. \n",
    "\n",
    "All the Best. "
   ]
  },
  {
   "cell_type": "markdown",
   "metadata": {},
   "source": [
    "### 1) Real World Situation: \n",
    "\n",
    "You have been invited to advise a local ethinic restaurant chain (6 restaurants in London). The chain serves indian food and had 10% yoy growth for last 6 years. Lately, its sales have been falling. \n",
    "\n",
    "Restaurant owner has asked for your help. To get started, can you define the objectives of this work and suggest data sources you would need, why you would need and probable problems you might encounter in getting hold of your desired datasets.\n",
    "\n"
   ]
  },
  {
   "cell_type": "code",
   "execution_count": 1,
   "metadata": {},
   "outputs": [],
   "source": [
    "\n",
    "#A: the objective is to understand why sales has been falling. To do this, we must first analyse sales data in the restaurants and identify if there is anything in particular driving this drop in sales (eg. what dishes are selling well/badly, what restaurants in the chain are doing well/ not, or if there is a general trend of lowering sales). Identifying what in particular is falling in sales can help put in strategies to remedy.\n",
    "#A: data sources that would be useful in answering this question: \n",
    "#1 sales data (total daily sales)\n",
    "#2 receipt data of customer orders to understand: order value, number of orders, contents of orders\n",
    "#3 menu category data : to categorise order data (eg. categorising along vegetarian, meat, fish, sides, drinks, soft drinks)\n",
    "#4 order type data: online, takeaway and in restaurant\n",
    "#5 venue data: segment data into which of the 6 restaurant branches \n",
    "#6 control data: this data from other indian restaurants\n",
    "\n"
   ]
  },
  {
   "cell_type": "markdown",
   "metadata": {},
   "source": [
    "### 2) Please list important steps in Data Science Worflow?"
   ]
  },
  {
   "cell_type": "code",
   "execution_count": 2,
   "metadata": {},
   "outputs": [],
   "source": [
    "#A: \n",
    "#1 frame: develop a hypothesis driven approach to analysis (ie. frame the problem with a hypothesis which can be upheld or dispelled)\n",
    "#2 Prepare : select, import, explore and clean data\n",
    "#3 Analyse: structure, visualise and complete analysis (ie. do the analysis and visualisation work)\n",
    "#4 Interpret: interpret the results and form a business use case/ decision accordingly\n",
    "#5 communicate findings in a way that is appropriate to the audience"
   ]
  },
  {
   "cell_type": "markdown",
   "metadata": {},
   "source": [
    "### 3) What are the two categories of Supervised Learning? \n",
    "\n"
   ]
  },
  {
   "cell_type": "code",
   "execution_count": 3,
   "metadata": {},
   "outputs": [],
   "source": [
    "#A: Classification (predict what category a discrete variable is in) and regression (predicts outcomes for continuous variables)"
   ]
  },
  {
   "cell_type": "markdown",
   "metadata": {},
   "source": [
    "---\n",
    "\n",
    "### 4) Write a function that takes the height and width of a triangle and returns the area."
   ]
  },
  {
   "cell_type": "code",
   "execution_count": 19,
   "metadata": {},
   "outputs": [
    {
     "name": "stdout",
     "output_type": "stream",
     "text": [
      "10.0\n"
     ]
    }
   ],
   "source": [
    "def triangle(a, b):\n",
    "    c = a*b*0.5\n",
    "    return c\n",
    "\n",
    "print(triangle(5,4))"
   ]
  },
  {
   "cell_type": "markdown",
   "metadata": {},
   "source": [
    "### 5) Iterate from 1 to 15, printing whether the number is odd or even.\n",
    "\n",
    "Hint: Look at operators. A lesser used operator. "
   ]
  },
  {
   "cell_type": "code",
   "execution_count": 20,
   "metadata": {},
   "outputs": [
    {
     "name": "stdout",
     "output_type": "stream",
     "text": [
      "1 is an odd number\n",
      "2 is an even number\n",
      "3 is an odd number\n",
      "4 is an even number\n",
      "5 is an odd number\n",
      "6 is an even number\n",
      "7 is an odd number\n",
      "8 is an even number\n",
      "9 is an odd number\n",
      "10 is an even number\n",
      "11 is an odd number\n",
      "12 is an even number\n",
      "13 is an odd number\n",
      "14 is an even number\n",
      "15 is an odd number\n"
     ]
    }
   ],
   "source": [
    "for i in range(1,16):\n",
    "    if i%2 == 0:\n",
    "        print(i, \"is an even number\")\n",
    "    else:\n",
    "        print(i, \"is an odd number\")\n"
   ]
  },
  {
   "cell_type": "markdown",
   "metadata": {},
   "source": [
    "### 6) Write a small program which converts Miles to Kilometers \n",
    "\n",
    "Ask the user to enter miles, check whether it is a float, do the calculation, and the program returns kilometers which is printed. Use try and except block to handle wrong data types. \n",
    "\n",
    "FYI: 1 Mile = 1.6 Kilometers"
   ]
  },
  {
   "cell_type": "code",
   "execution_count": 23,
   "metadata": {},
   "outputs": [
    {
     "name": "stdout",
     "output_type": "stream",
     "text": [
      "Enter number of miles:3\n",
      "4.8\n"
     ]
    }
   ],
   "source": [
    "distance = input(\"Enter number of miles:\")\n",
    "\n",
    "def Miles_convert(distance):\n",
    "    km = float(distance)*1.6\n",
    "    return round(km,3)\n",
    "print(Miles_convert(distance))"
   ]
  },
  {
   "cell_type": "markdown",
   "metadata": {},
   "source": [
    "### 7) Write a program giving recommendations basis weather conditions\n",
    "\n",
    "Create a variable Temperature and print out these recommendations based on the temperature:\n",
    "                 \n",
    "1) The temperature is higher than 90 degrees: Avoid getting out.          \n",
    "2) The temperature is between 89 and 70: Bring an umbrella.            \n",
    "3) The temperature is between 69 and 45: Wear a T-shirt.        \n",
    "4) The temperature is lower than 44: Bring a jacket.           "
   ]
  },
  {
   "cell_type": "code",
   "execution_count": 25,
   "metadata": {},
   "outputs": [
    {
     "name": "stdout",
     "output_type": "stream",
     "text": [
      "what is the temperature today?23\n",
      "Bring a jacket\n"
     ]
    }
   ],
   "source": [
    "Temperature = input(\"what is the temperature today?\")\n",
    "def tempcheck(Temperature):\n",
    "    if int(Temperature)>= 90:\n",
    "        return \"Avoid getting out.\"\n",
    "    elif int(Temperature)<=89 and int(Temperature)>=70:\n",
    "        return \"Bring an umbrella.\"\n",
    "    elif int(Temperature)<=69 and int(Temperature)>=45:\n",
    "        return \"Wear a T-shirt.\"\n",
    "    else:\n",
    "        return \"Bring a jacket\"\n",
    "    return \n",
    "print(tempcheck(Temperature))"
   ]
  },
  {
   "cell_type": "markdown",
   "metadata": {},
   "source": [
    "### 8) Write a program to convert score to grades\n",
    "\n",
    "Write a program to prompt the user for a score between 0 to 100. If the score is out of range, print an error. If the score is between 0 and 100, use the following slabs(score, grade): \n",
    "     \n",
    " greater than 90 A     \n",
    "<90 and >=80 B     \n",
    "<80 and >=70 B    \n",
    "<70 and >=60 C    \n",
    "<60 and >=50 D    \n",
    "<50 E    \n"
   ]
  },
  {
   "cell_type": "code",
   "execution_count": 26,
   "metadata": {},
   "outputs": [
    {
     "name": "stdout",
     "output_type": "stream",
     "text": [
      "What score do you give?5\n",
      "The grade is E\n"
     ]
    }
   ],
   "source": [
    "score = input(\"What score do you give?\")\n",
    "\n",
    "def Grade(score):\n",
    "    if int(score)>100:\n",
    "        return \"Error, please give a score between 0 and 100\"\n",
    "    if int(score)<0:\n",
    "        return \"Error, please give a score between 0 and 100\"\n",
    "    elif int(score)>=90:\n",
    "        return \"The grade is A\"\n",
    "    elif int(score)<90 and int(score)>=80:\n",
    "        return \"The grade is B\"\n",
    "    elif int(score)<80 and int(score)>=70:\n",
    "        return \"The grade is B\"\n",
    "    elif int(score)<70 and int(score)>=60:\n",
    "        return \"The grade is C\"\n",
    "    elif int(score)<60 and int(score)>=50:\n",
    "        return \"The grade is D\"\n",
    "    else:\n",
    "        return \"The grade is E\"\n",
    "print(Grade(score))"
   ]
  },
  {
   "cell_type": "markdown",
   "metadata": {},
   "source": [
    "---\n",
    "\n",
    "### 9) Iterate through the following list of animals and print each one in all caps.\n",
    "\n",
    "animals = ['duck', 'rat', 'boar', 'slug', 'mammoth', 'gazelle']"
   ]
  },
  {
   "cell_type": "code",
   "execution_count": 27,
   "metadata": {},
   "outputs": [
    {
     "name": "stdout",
     "output_type": "stream",
     "text": [
      "DUCK\n",
      "RAT\n",
      "BOAR\n",
      "SLUG\n",
      "MAMMOTH\n",
      "GAZELLE\n"
     ]
    }
   ],
   "source": [
    "animals = ['duck', 'rat', 'boar', 'slug', 'mammoth', 'gazelle']\n",
    "\n",
    "for i in range(len(animals)):\n",
    "    print(animals[i].upper())"
   ]
  },
  {
   "cell_type": "markdown",
   "metadata": {
    "collapsed": true
   },
   "source": [
    "### 10) Write a function that takes a word as an argument and returns the number of vowels in the word.\n",
    "\n",
    "Try it out on three words."
   ]
  },
  {
   "cell_type": "code",
   "execution_count": 28,
   "metadata": {},
   "outputs": [
    {
     "name": "stdout",
     "output_type": "stream",
     "text": [
      "3\n"
     ]
    }
   ],
   "source": [
    "vowels = ['a', 'e', 'o', 'u', 'i']\n",
    "word = \"celine\"\n",
    "\n",
    "def has_vowels(word):\n",
    "    counter=0\n",
    "    for i in word:\n",
    "        if i in \"aeiouAEIOU\":\n",
    "           counter = counter+1\n",
    "    return counter\n",
    "\n",
    "print(has_vowels(word))\n",
    "        "
   ]
  },
  {
   "cell_type": "markdown",
   "metadata": {},
   "source": [
    "### 11) Extracting part of a string \n",
    "\n",
    "We have a string which reads as follows: \"From alex.chicote@generalassemb.ly Sat Jul 19 18:46:90\"      \n",
    "We want to extract generalassemb.ly from this string. Can you do this? \n",
    "\n",
    "Hint: Look at a string method called find and use it in conjunction with index; space is indicated by ' '\n",
    "https://www.w3schools.com/python/ref_string_find.asp"
   ]
  },
  {
   "cell_type": "code",
   "execution_count": 29,
   "metadata": {},
   "outputs": [
    {
     "name": "stdout",
     "output_type": "stream",
     "text": [
      "@generalassemb.ly\n"
     ]
    }
   ],
   "source": [
    "string = \"From alex.chicote@generalassemb.ly Sat Jul 19 18:46:90\"\n",
    "def find_GA(string):\n",
    "    a = string.find(\"@\")\n",
    "    b = len(\"generalassemb.ly\")+1\n",
    "    return string[a: (a+b)]\n",
    "print(find_GA(string))"
   ]
  },
  {
   "cell_type": "markdown",
   "metadata": {},
   "source": [
    "### 12) Creating a function called ChopChop \n",
    "\n",
    "Write a function called ChopChop that takes a list, removes the first and the last elements and returns back the list \n"
   ]
  },
  {
   "cell_type": "code",
   "execution_count": 30,
   "metadata": {},
   "outputs": [
    {
     "name": "stdout",
     "output_type": "stream",
     "text": [
      "[3, 4]\n"
     ]
    }
   ],
   "source": [
    "list = [1 , 3, 4, 5]\n",
    "def ChopChop(list):\n",
    "    return list[1:(len(list)-1)]\n",
    "print(ChopChop(list))\n"
   ]
  },
  {
   "cell_type": "markdown",
   "metadata": {},
   "source": [
    "### 13) Multiples of 3 and 5\n",
    "\n",
    "If we list all of the natural numbers below 10 that are multiples of 3 or 5, we get 3, 5, 6, and 9. The sum of these multiples is 23. Find the sum of all the multiples of 3 and 5 below 1,000. Afterward, write a brief explanation walking through your code's logic in markdown."
   ]
  },
  {
   "cell_type": "code",
   "execution_count": 31,
   "metadata": {},
   "outputs": [
    {
     "name": "stdout",
     "output_type": "stream",
     "text": [
      "233168\n"
     ]
    }
   ],
   "source": [
    "def sum_multiples(num):\n",
    "    counter = 0\n",
    "    for x in range(0,num):\n",
    "        if x%3 == 0 or x%5 ==0:\n",
    "            counter= counter + x\n",
    "    return counter\n",
    "\n",
    "print(sum_multiples(1000))\n",
    "\n",
    "#creating a function, allows any integer to be run through the programme\n",
    "# the function should then loop through every number between 0 and the integer selected (in this case 1000) and check whether it is divisble between 3 or 5\n",
    "# a counter starting at 0 was created where all numbers that are multiples are added so that they can be summed"
   ]
  },
  {
   "cell_type": "markdown",
   "metadata": {},
   "source": [
    "### 14) FizzBuzz\n",
    "\n",
    "Write a program that prints all of the numbers from 1 to 100. For multiples of 3, instead of the number, print \"Fizz;\" for multiples of 5, print \"Buzz.\" For numbers that are multiples of both 3 and 5, print \"FizzBuzz.\" Afterward, write a brief explanation walking through your code's logic in markdown."
   ]
  },
  {
   "cell_type": "code",
   "execution_count": 16,
   "metadata": {},
   "outputs": [
    {
     "name": "stdout",
     "output_type": "stream",
     "text": [
      "1\n",
      "2\n",
      "Fizz\n",
      "4\n",
      "Buzz\n",
      "Fizz\n",
      "7\n",
      "8\n",
      "Fizz\n",
      "Buzz\n",
      "11\n",
      "Fizz\n",
      "13\n",
      "14\n",
      "FizzBuzz\n",
      "16\n",
      "17\n",
      "Fizz\n",
      "19\n",
      "None\n"
     ]
    }
   ],
   "source": [
    "num = 20\n",
    "for x in range(1,(num+1)):\n",
    "    if x%3 == 0:\n",
    "        if x%5==0:\n",
    "            print(\"FizzBuzz\")\n",
    "        else:\n",
    "            print(\"Fizz\")\n",
    "    elif x%5 ==0:\n",
    "        print(\"Buzz\")\n",
    "    else:\n",
    "        print(x)"
   ]
  },
  {
   "cell_type": "markdown",
   "metadata": {
    "collapsed": true
   },
   "source": [
    "### Use of Git Bash \n",
    "\n",
    "If you are using Git Bash to submit this notebook, please send screenshots of each step (along with your notebook). You might able to garner bonus fractional-points for the use of Git Bash. \n",
    "\n",
    "Please note that this is not a compulsory challenge and does not guarrantee an additional point. "
   ]
  },
  {
   "cell_type": "markdown",
   "metadata": {},
   "source": [
    "## That's all. You are a star! "
   ]
  }
 ],
 "metadata": {
  "anaconda-cloud": {},
  "kernelspec": {
   "display_name": "Python 3 (ipykernel)",
   "language": "python",
   "name": "python3"
  },
  "language_info": {
   "codemirror_mode": {
    "name": "ipython",
    "version": 3
   },
   "file_extension": ".py",
   "mimetype": "text/x-python",
   "name": "python",
   "nbconvert_exporter": "python",
   "pygments_lexer": "ipython3",
   "version": "3.9.7"
  }
 },
 "nbformat": 4,
 "nbformat_minor": 2
}
